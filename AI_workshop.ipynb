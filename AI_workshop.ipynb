{
  "cells": [
    {
      "cell_type": "code",
      "execution_count": null,
      "metadata": {
        "id": "SB80bSPlsqxS"
      },
      "outputs": [],
      "source": [
        "# @title\n",
        "!pip install aiogram\n",
        "!pip install nest-asyncio\n",
        "!pip install openai==0.28.1\n",
        "!pip install neo4j"
      ]
    },
    {
      "cell_type": "code",
      "execution_count": null,
      "metadata": {
        "id": "Xsh0eU9CvMdE"
      },
      "outputs": [],
      "source": [
        "import neo4j\n",
        "from neo4j import GraphDatabase"
      ]
    },
    {
      "cell_type": "code",
      "execution_count": null,
      "metadata": {
        "id": "P7v2ChjgslEf"
      },
      "outputs": [],
      "source": [
        "import asyncio\n",
        "import nest_asyncio\n",
        "nest_asyncio.apply()\n",
        "\n",
        "from aiogram import Bot, Dispatcher, types, filters"
      ]
    },
    {
      "cell_type": "code",
      "execution_count": null,
      "metadata": {
        "id": "aozJuTL9XvFb"
      },
      "outputs": [],
      "source": [
        "def escape_markdown(text: str) -> str:\n",
        "    escape_chars = r\"_*[]()~`>#+-=|{}.!\"\n",
        "    return \"\".join(f\"\\\\{char}\" if char in escape_chars else char for char in text)"
      ]
    },
    {
      "cell_type": "code",
      "execution_count": null,
      "metadata": {
        "id": "mAvYpoovvobt"
      },
      "outputs": [],
      "source": [
        "import openai\n",
        "\n",
        "openai.__version__"
      ]
    },
    {
      "cell_type": "code",
      "execution_count": null,
      "metadata": {
        "id": "PwEXNjk5stTX"
      },
      "outputs": [],
      "source": [
        "openai.api_key = #\n",
        "openai.api_base = #"
      ]
    },
    {
      "cell_type": "code",
      "execution_count": null,
      "metadata": {
        "id": "QuQT__LNzAx5"
      },
      "outputs": [],
      "source": [
        "def get_gpt(content, model=\"openai/gpt-4o-mini\", temperature=0, max_tokens=1000): # gpt-4o gpt-3.5-turbo gpt-4o-mini\n",
        "    \"\"\"\n",
        "    Cached call to GPT.\n",
        "    \"\"\"\n",
        "    messages = [{\"role\": \"user\", \"content\": content}]\n",
        "\n",
        "    response = openai.ChatCompletion.create(\n",
        "        model=model,\n",
        "        messages=messages,\n",
        "        temperature=temperature,\n",
        "        n=1,\n",
        "        max_tokens=max_tokens,\n",
        "        headers={ \"X-Title\": \"My App\" },\n",
        "    )\n",
        "\n",
        "    return response"
      ]
    },
    {
      "cell_type": "code",
      "execution_count": null,
      "metadata": {
        "id": "fr80iSXWz45n"
      },
      "outputs": [],
      "source": [
        "def choose_pipeline(query, **kwargs):\n",
        "    # Подготовка текста для генерации ответа\n",
        "    #     ВАЖНО! Если не знаешь к какой категории отнести запрос, то верни текст `Затрудняюсь ответить`.\n",
        "    input_text = f\"\"\"\n",
        "    Ты консультант в университете. Твоя задача помочь классифицировать запросы пользователя на следующие категории:\n",
        "\n",
        "    ВАЖНО! Верни только название категорий.\n",
        "\n",
        "    ```question\n",
        "    {query}\n",
        "    ```\n",
        "\n",
        "    ```categories\n",
        "    !НАЗВАНИЕ: Заселение и выбор общежития\n",
        "    !ОПИСАНИЕ: Вопросы о процессе заселения, выборе общежития, необходимых справках и документах для проживания.\n",
        "\n",
        "    !НАЗВАНИЕ: Документы и справки для различных процедур в вузе\n",
        "    !ОПИСАНИЕ: Вопросы о необходимых справках и документах для поступления, заселения, и других формальных процедур, включая подачу через госуслуги.\n",
        "\n",
        "    !НАЗВАНИЕ: Подписание договоров и организационные моменты общежития\n",
        "    !ОПИСАНИЕ: Вопросы о подписании договоров на общежитие, процедуре их оформления и других аспектах проживания.\n",
        "\n",
        "    !НАЗВАНИЕ: Приемная комиссия и вопросы о поступлении\n",
        "    !ОПИСАНИЕ: Вопросы о времени работы приёмной комиссии, подаче заявок, формате обучения, а также организационных моментах для абитуриентов.\n",
        "\n",
        "    !НАЗВАНИЕ: Расписание и время проведения занятий и пересдач\n",
        "    !ОПИСАНИЕ: Вопросы о расписании занятий, пересдач, времени проведения мероприятий и другой организационной информации.\n",
        "\n",
        "    !НАЗВАНИЕ: Баллы и система оценки\n",
        "    !ОПИСАНИЕ: Вопросы о начислении баллов, критериях оценки, зачетах, а также просмотре результатов и сведений в личном кабинете.\n",
        "\n",
        "    !НАЗВАНИЕ: Проблемы с доступом к платформам и загрузкой документов\n",
        "    !ОПИСАНИЕ: Вопросы о технических проблемах с личным кабинетом, трудностях с загрузкой документов и других вопросах, связанных с функционалом онлайн-систем.\n",
        "\n",
        "    !НАЗВАНИЕ: Местоположение и навигация по вузу\n",
        "    !ОПИСАНИЕ: Вопросы о том, где находятся структурные подразделения вуза, аудитории, справочные центры, и прочая информация для удобной навигации.\n",
        "\n",
        "    !НАЗВАНИЕ: Общие вопросы по организационным аспектам для студентов\n",
        "    !ОПИСАНИЕ: Вопросы, касающиеся организационных моментов, таких как требования по физкультуре, порядок распределения на проекты и взаимодействие с кураторами.\n",
        "\n",
        "    !НАЗВАНИЕ: Публикация списков поступающих и распределение мест в общежитии\n",
        "    !ОПИСАНИЕ: Вопросы о списках поступающих, распределении мест и условиях заселения, а также статусах заявок.\n",
        "    ```\n",
        "    \"\"\"\n",
        "\n",
        "    gpt_resp = get_gpt(input_text, **kwargs)\n",
        "    return gpt_resp['choices'][0]['message']['content']"
      ]
    },
    {
      "cell_type": "code",
      "execution_count": null,
      "metadata": {
        "id": "kcVNG3AThnRJ"
      },
      "outputs": [],
      "source": [
        "def choose_subtopic(query, subtopics, **kwargs):\n",
        "    # Подготовка текста для генерации ответа\n",
        "    input_text = f\"\"\"\n",
        "    Ты консультант в университете. Твоя задача помочь найти 3 подтемы максимально похожих запрос пользователя.\n",
        "\n",
        "    ВАЖНО! Верни список из 3 подтем через запятую из представленных в subtopics.\n",
        "    ВАЖНО! Нужно вернуть только подтемы из subtopics.\n",
        "    ВАЖНО! Если нет подходящей темы, то выведи темы, т.к. в них может быть нужная информация.\n",
        "\n",
        "    ```question\n",
        "    {query}\n",
        "    ```\n",
        "\n",
        "    ```subtopics\n",
        "    {subtopics}\n",
        "    ```\n",
        "    \"\"\"\n",
        "\n",
        "    gpt_resp = get_gpt(input_text, **kwargs)\n",
        "    return gpt_resp['choices'][0]['message']['content'].replace(\"'\", '')"
      ]
    },
    {
      "cell_type": "code",
      "execution_count": null,
      "metadata": {
        "id": "uw9M717gj8U3"
      },
      "outputs": [],
      "source": [
        "def make_answer(query, context, **kwargs):\n",
        "    # Подготовка текста для генерации ответа\n",
        "    input_text = f\"\"\"\n",
        "    Ты консультант в университете. Твоя задача помочь ответить на вопросы пользователя.\n",
        "\n",
        "    ВАЖНО! Для того, чтобы ты мог отвечать на вопросы, у тебя есть информация в context.\n",
        "    ВАЖНО! Если не знаешь к какой категории отнести запрос, то верни текст `Затрудняюсь ответить`.\n",
        "\n",
        "    ```question\n",
        "    {query}\n",
        "    ```\n",
        "\n",
        "    ```context\n",
        "    {context}\n",
        "    ```\n",
        "    \"\"\"\n",
        "\n",
        "    gpt_resp = get_gpt(input_text, **kwargs)\n",
        "    return gpt_resp['choices'][0]['message']['content']"
      ]
    },
    {
      "cell_type": "code",
      "execution_count": null,
      "metadata": {
        "id": "hvnivyI8zeGI"
      },
      "outputs": [],
      "source": [
        "# get_gpt(\"Напиши последовательно числа от 1 до 10\")['choices'][0]['message']['content']"
      ]
    },
    {
      "cell_type": "code",
      "execution_count": null,
      "metadata": {
        "id": "wFXIw31csm70"
      },
      "outputs": [],
      "source": [
        "TOKEN = #"
      ]
    },
    {
      "cell_type": "code",
      "execution_count": null,
      "metadata": {
        "id": "klHXDchnbctg"
      },
      "outputs": [],
      "source": [
        "return2neo4j = {\n",
        "\"Заселение и выбор общежития\": \"1. Заселение и выбор общежития\",\n",
        "\"Документы и справки для различных процедур в вузе\": \"2. Документы и справки для различных процедур в вузе\",\n",
        "\"Подписание договоров и организационные моменты общежития\": \"3. Подписание договоров и организационные моменты общежития\",\n",
        "\"Приемная комиссия и вопросы о поступлении\": \"4. Приемная комиссия и вопросы о поступлении\",\n",
        "\"Расписание и время проведения занятий и пересдач\": \"5. Расписание и время проведения занятий и пересдач\",\n",
        "\"Баллы и система оценки\": \"6. Баллы и система оценки\",\n",
        "\"Проблемы с доступом к платформам и загрузкой документов\": \"7. Проблемы с доступом к платформам и загрузкой документов\",\n",
        "\"Местоположение и навигация по вузу\": \"8. Местоположение и навигация по вузу\",\n",
        "\"Общие вопросы по организационным аспектам для студентов\": \"9. Общие вопросы по организационным аспектам для студентов\",\n",
        "\"Публикация списков поступающих и распределение мест в общежитии\": \"10. Публикация списков поступающих и распределение мест в общежитии\",\n",
        "}"
      ]
    },
    {
      "cell_type": "code",
      "execution_count": null,
      "metadata": {
        "id": "hgR4XO4ldnHQ"
      },
      "outputs": [],
      "source": [
        "URI = \"neo4j+s://d6aa41d5.databases.neo4j.io\"\n",
        "AUTH = (\"neo4j\", \"X2bejiqsMw_vUgj6BP39tvBPJ0PvFt5DRtEaX5FGRPE\")"
      ]
    },
    {
      "cell_type": "code",
      "execution_count": null,
      "metadata": {
        "id": "F3nxWUn9dllg"
      },
      "outputs": [],
      "source": [
        "class Neo4jConnection:\n",
        "    def __init__(self, uri, auth):\n",
        "        self.driver = GraphDatabase.driver(uri, auth=auth)\n",
        "\n",
        "    def get_combined_chunks_by_subtopics(self, subtopic_names):\n",
        "        with self.driver.session() as session:\n",
        "            result = session.run(\n",
        "                \"\"\"\n",
        "                UNWIND $subtopic_names AS subtopic_name\n",
        "                MATCH (subtopic:Subtopic {name: subtopic_name})-[:HAS_CHUNK]->(chunk)\n",
        "                RETURN collect(chunk.text) AS all_chunks\n",
        "                \"\"\",\n",
        "                subtopic_names=subtopic_names\n",
        "            )\n",
        "            record = result.single()\n",
        "            chunks = record[\"all_chunks\"] if record else []\n",
        "            return \"\\n\\n\".join(chunks) if chunks else \"\"\n",
        "\n",
        "    def get_subtopics(self, topic_name):\n",
        "        with self.driver.session() as session:\n",
        "            result = session.run(\n",
        "                \"MATCH (mainTopic {name: $topic_name})-[:HAS_SUBTOPIC]->(subtopic:Subtopic) \"\n",
        "                \"RETURN collect(subtopic.name) AS subtopics\",\n",
        "                topic_name=topic_name\n",
        "            )\n",
        "            record = result.single()\n",
        "            return record[\"subtopics\"] if record else []\n",
        "\n",
        "    def close(self):\n",
        "        self.driver.close()"
      ]
    },
    {
      "cell_type": "code",
      "execution_count": null,
      "metadata": {
        "id": "UOY1Vb6cWqvc"
      },
      "outputs": [],
      "source": [
        "# Создаем подключение\n",
        "neo4j_conn = Neo4jConnection(URI, AUTH)"
      ]
    },
    {
      "cell_type": "code",
      "execution_count": null,
      "metadata": {
        "id": "do1obwFnQyPY"
      },
      "outputs": [],
      "source": [
        "neo4j_conn.get_subtopics(\"5. Расписание и время проведения занятий и пересдач\")"
      ]
    },
    {
      "cell_type": "code",
      "execution_count": null,
      "metadata": {
        "id": "tPujEgE3O5kN"
      },
      "outputs": [],
      "source": [
        "top3subtopics = choose_subtopic(\"Где я могу посмотреть расписание?\",\n",
        "                                neo4j_conn.get_subtopics(\"5. Расписание и время проведения занятий и пересдач\"))\n",
        "top3subtopics"
      ]
    },
    {
      "cell_type": "code",
      "execution_count": null,
      "metadata": {
        "id": "7lMFoUDEOzbR"
      },
      "outputs": [],
      "source": [
        "neo4j_conn.get_combined_chunks_by_subtopics(top3subtopics.split(','))"
      ]
    },
    {
      "cell_type": "code",
      "execution_count": null,
      "metadata": {
        "id": "cS9qeMcIsVQ0"
      },
      "outputs": [],
      "source": [
        "bot = Bot(token=TOKEN)\n",
        "dp = Dispatcher()\n",
        "\n",
        "@dp.message(filters.CommandStart())\n",
        "async def process_start_command(message: types.Message):\n",
        "    await message.answer(\"Привет!\\nНапиши мне что-нибудь!\")\n",
        "\n",
        "@dp.message(filters.Command('help'))\n",
        "async def process_help_command(message: types.Message):\n",
        "    # Отправляем сообщение обратно пользователю\n",
        "    await message.answer(\"Напиши что-нибудь. Я отправлю это в ответ\")\n",
        "\n",
        "@dp.message()\n",
        "async def echo_message(message: types.Message):\n",
        "    user_query = message.text\n",
        "    gpt_answer = choose_pipeline(user_query)\n",
        "\n",
        "    # Получаем название темы из Neo4j (ваша существующая функция)\n",
        "    topic_name = return2neo4j[gpt_answer]\n",
        "\n",
        "    top3subtopics = choose_subtopic(user_query, neo4j_conn.get_subtopics(topic_name))\n",
        "\n",
        "    # Получаем все тексты по этой подтеме\n",
        "    texts = neo4j_conn.get_combined_chunks_by_subtopics(top3subtopics.split(','))\n",
        "\n",
        "    # Объединяем тексты в одну строку\n",
        "    combined_text = texts.replace('\\n', '')\n",
        "\n",
        "    final_answer = make_answer(user_query, context=combined_text)\n",
        "\n",
        "    # Отправляем ответ\n",
        "    await message.answer(\n",
        "        f\"📌 *Категория вопроса:* `{escape_markdown(gpt_answer)}`\\n\"\n",
        "        f\"🔍 *Название топика в БД:* `{escape_markdown(topic_name)}`\\n\"\n",
        "        f\"📂 *Подтемы:*\\n`{escape_markdown(top3subtopics)}`\\n\"\n",
        "        f\"📏 *Длина контекста:* `{len(combined_text)}` символов\\n\"\n",
        "        f\"💡 *Итоговый ответ:*\\n{escape_markdown(final_answer)}\",\n",
        "        parse_mode=\"MarkdownV2\"\n",
        "    )\n",
        "\n",
        "\n",
        "async def main():\n",
        "    await dp.start_polling(bot)\n",
        "\n",
        "\n",
        "if __name__ == \"__main__\":\n",
        "    asyncio.run(main())"
      ]
    },
    {
      "cell_type": "markdown",
      "metadata": {
        "id": "_8INLKVfazSl"
      },
      "source": [
        "---"
      ]
    },
    {
      "cell_type": "code",
      "execution_count": null,
      "metadata": {
        "id": "JWOleWFYwPT4"
      },
      "outputs": [],
      "source": [
        "!pip install python-docx"
      ]
    },
    {
      "cell_type": "code",
      "execution_count": null,
      "metadata": {
        "id": "444M-ZS_0PK8"
      },
      "outputs": [],
      "source": [
        "from docx import Document"
      ]
    },
    {
      "cell_type": "code",
      "execution_count": null,
      "metadata": {
        "id": "57fyYqE2weyq"
      },
      "outputs": [],
      "source": [
        "URI = #\n",
        "AUTH = #\n",
        "# example_name = ['bolt+ssc', 'bolt+s', 'neo4j+ssc', 'neo4j+s']\n",
        "driver = GraphDatabase.driver(URI, auth=AUTH)"
      ]
    },
    {
      "cell_type": "code",
      "execution_count": null,
      "metadata": {
        "id": "EIASqu91vWXq"
      },
      "outputs": [],
      "source": [
        "def create_topic(tx, topic_name):\n",
        "    query = \"MERGE (t:Topic {name: $name}) RETURN elementId(t)\"\n",
        "    result = tx.run(query, name=topic_name).single()\n",
        "    return result[0] if result else None\n",
        "\n",
        "\n",
        "def create_subtopic(tx, subtopic_name, topic_id):\n",
        "    if topic_id is None:\n",
        "        print(f\"Ошибка: topic_id = None для {subtopic_name}\")\n",
        "        return None\n",
        "\n",
        "    query = \"\"\"\n",
        "    MATCH (t) WHERE elementId(t) = $topic_id\n",
        "    MERGE (s:Subtopic {name: $name})\n",
        "    MERGE (t)-[:HAS_SUBTOPIC]->(s)\n",
        "    RETURN elementId(s)\n",
        "    \"\"\"\n",
        "    result = tx.run(query, name=subtopic_name, topic_id=topic_id).single()\n",
        "    return result[0] if result else None\n",
        "\n",
        "\n",
        "def create_chunk(tx, chunk_text, subtopic_id):\n",
        "    query = \"\"\"\n",
        "    MATCH (s) WHERE elementId(s) = $subtopic_id\n",
        "    CREATE (c:Chunk {text: $text})\n",
        "    CREATE (s)-[:HAS_CHUNK]->(c)\n",
        "    \"\"\"\n",
        "    tx.run(query, text=chunk_text, subtopic_id=subtopic_id)\n",
        "\n",
        "\n",
        "def parse_document(file_path):\n",
        "    doc = Document(file_path)\n",
        "    topics = {}\n",
        "    current_topic = None\n",
        "    current_subtopic = None\n",
        "\n",
        "    for para in doc.paragraphs:\n",
        "        text = para.text.strip()\n",
        "        if text.isdigit() or text == \"\":\n",
        "            continue\n",
        "        if text.endswith(\"?\"):\n",
        "            current_subtopic = text\n",
        "            topics[current_topic][current_subtopic] = []\n",
        "        elif text.startswith(tuple(str(i) for i in range(1, 11))):\n",
        "            current_topic = text\n",
        "            topics[current_topic] = {}\n",
        "        elif current_subtopic:\n",
        "            if current_topic not in topics:\n",
        "                topics[current_topic] = {}\n",
        "\n",
        "            if current_subtopic not in topics[current_topic]:\n",
        "                topics[current_topic][current_subtopic] = []\n",
        "\n",
        "            topics[current_topic][current_subtopic].append(text)\n",
        "\n",
        "    return topics\n",
        "\n",
        "\n",
        "def load_to_neo4j(data):\n",
        "    with driver.session() as session:\n",
        "        for topic, subtopics in data.items():\n",
        "            topic_id = session.execute_write(create_topic, topic)\n",
        "            print(f\"Создан topic_id: {topic_id}\")  # Проверка\n",
        "            if topic_id is None:\n",
        "                continue  # Пропустить, если топик не создался\n",
        "\n",
        "            for subtopic, chunks in subtopics.items():\n",
        "                subtopic_id = session.execute_write(create_subtopic, subtopic, topic_id)\n",
        "                print(f\"Создан subtopic_id: {subtopic_id}\")  # Проверка\n",
        "                if subtopic_id is None:\n",
        "                    continue  # Пропустить, если подтема не создалась\n",
        "\n",
        "                for chunk in chunks:\n",
        "                    session.execute_write(create_chunk, chunk, subtopic_id)"
      ]
    },
    {
      "cell_type": "code",
      "execution_count": null,
      "metadata": {
        "id": "YnXIbrbm07aU"
      },
      "outputs": [],
      "source": [
        "if __name__ == \"__main__\":\n",
        "    file_path = \"ПД_Шатило.docx\" # датасет\n",
        "    parsed_data = parse_document(file_path)\n",
        "    load_to_neo4j(parsed_data)\n",
        "    driver.close()"
      ]
    },
    {
      "cell_type": "code",
      "execution_count": null,
      "metadata": {
        "id": "qIz4ePBa077A"
      },
      "outputs": [],
      "source": []
    }
  ],
  "metadata": {
    "colab": {
      "provenance": []
    },
    "kernelspec": {
      "display_name": "Python 3",
      "name": "python3"
    },
    "language_info": {
      "name": "python"
    }
  },
  "nbformat": 4,
  "nbformat_minor": 0
}